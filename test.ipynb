{
 "cells": [
  {
   "cell_type": "code",
   "execution_count": 2,
   "metadata": {},
   "outputs": [],
   "source": [
    "# Inicial imports\n",
    "\n",
    "import numpy as np\n",
    "import pandas as pb\n",
    "import matplotlib as plt\n",
    "import seaborn as sb\n"
   ]
  }
 ],
 "metadata": {
  "kernelspec": {
   "display_name": "env",
   "language": "python",
   "name": "python3"
  },
  "language_info": {
   "codemirror_mode": {
    "name": "ipython",
    "version": 3
   },
   "file_extension": ".py",
   "mimetype": "text/x-python",
   "name": "python",
   "nbconvert_exporter": "python",
   "pygments_lexer": "ipython3",
   "version": "3.11.1"
  },
  "orig_nbformat": 4,
  "vscode": {
   "interpreter": {
    "hash": "c458426d9a4a437e40b79981d55e0ca504223a08ddef7bb212de9d3a9d8458ea"
   }
  }
 },
 "nbformat": 4,
 "nbformat_minor": 2
}
